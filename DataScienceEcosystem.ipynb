{
 "cells": [
  {
   "cell_type": "markdown",
   "id": "c9715337-1b96-4a77-84ea-ae47c6514cb1",
   "metadata": {},
   "source": [
    "# Data Science Tools and Ecosystem  "
   ]
  },
  {
   "cell_type": "markdown",
   "id": "740cf817-cf25-42a9-b8f5-bf8f40c4e9e5",
   "metadata": {},
   "source": [
    "**Objectives:**\n",
    "\n",
    "- List popular languages for Data Science  \n",
    "- Understand basic arithmetic operations in Python  \n",
    "- Convert units using Python expressions  \n",
    "- Use Markdown to create well-formatted documentation  \n",
    "- Execute code cells and interpret their outputs"
   ]
  },
  {
   "cell_type": "markdown",
   "id": "3592abfd-0b54-4d09-9d05-cdee017fce67",
   "metadata": {},
   "source": [
    "\n",
    "In this notebook, Data Science Tools and Ecosystem are summarized.  \n"
   ]
  },
  {
   "cell_type": "code",
   "execution_count": null,
   "id": "85a6b60d-00d5-442e-83a4-47fceb682453",
   "metadata": {},
   "outputs": [],
   "source": [
    "## Popular Data Science Languages  \n",
    "Some of the popular languages that Data Scientists use are:  \n",
    "\n",
    "1. Python  \n",
    "2. R  \n",
    "3. SQL  \n",
    "4. Julia  \n",
    "5. Scala  "
   ]
  },
  {
   "cell_type": "markdown",
   "id": "64c75afd-b4b2-481c-a204-2a5b3f553d4a",
   "metadata": {},
   "source": [
    "### Data Science Libraries  \n",
    "Some of the commonly used libraries used by Data Scientists include:  \n",
    "\n",
    "1. Pandas - For data manipulation and analysis  \n",
    "2. NumPy - For numerical computing  \n",
    "3. Matplotlib - For data visualization  \n",
    "4. Scikit-learn - For machine learning  \n",
    "5. TensorFlow/PyTorch - For deep learning\n",
    "6. "
   ]
  },
  {
   "cell_type": "markdown",
   "id": "65553607-ccde-4e01-a22f-562ca30f5ce8",
   "metadata": {},
   "source": [
    "### Data Science Tools  \n",
    "| Data Science Tools |  \n",
    "|--------------------|  \n",
    "| Jupyter Notebook   |  \n",
    "| RStudio            |  \n",
    "| VS Code (with Python extensions) |"
   ]
  },
  {
   "cell_type": "markdown",
   "id": "45c4617d-4678-4349-b7ae-f6d92e9f768d",
   "metadata": {},
   "source": [
    "### Arithmetic Expressions in Python\n",
    "Below are a few examples of evaluating arithmetic expressions in Python."
   ]
  },
  {
   "cell_type": "code",
   "execution_count": 12,
   "id": "ae5a11af-dd73-4123-81c7-5bd3a93b54f8",
   "metadata": {},
   "outputs": [
    {
     "name": "stdout",
     "output_type": "stream",
     "text": [
      "17\n"
     ]
    }
   ],
   "source": [
    "# This is a simple arithmetic expression to multiply and then add integers\n",
    "print((3 * 4) + 5)"
   ]
  },
  {
   "cell_type": "code",
   "execution_count": 13,
   "id": "43506a96-6fa3-41f7-8b5e-5dc50ce96b87",
   "metadata": {},
   "outputs": [
    {
     "name": "stdout",
     "output_type": "stream",
     "text": [
      "3.3333333333333335\n"
     ]
    }
   ],
   "source": [
    "# This will convert 200 minutes to hours by dividing by 60\n",
    "hours = 200 / 60\n",
    "print(hours)"
   ]
  },
  {
   "cell_type": "markdown",
   "id": "7fb424c7-aac7-446a-a669-bca9d3747808",
   "metadata": {},
   "source": [
    "## Author\n",
    "\n",
    "Roberto Bafumo\n"
   ]
  },
  {
   "cell_type": "code",
   "execution_count": null,
   "id": "75c46c9c-5efa-4e89-9f86-7a6cc97935d3",
   "metadata": {},
   "outputs": [],
   "source": []
  }
 ],
 "metadata": {
  "kernelspec": {
   "display_name": "Python 3 (ipykernel)",
   "language": "python",
   "name": "python3"
  },
  "language_info": {
   "codemirror_mode": {
    "name": "ipython",
    "version": 3
   },
   "file_extension": ".py",
   "mimetype": "text/x-python",
   "name": "python",
   "nbconvert_exporter": "python",
   "pygments_lexer": "ipython3",
   "version": "3.12.7"
  }
 },
 "nbformat": 4,
 "nbformat_minor": 5
}
